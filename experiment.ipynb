{
 "cells": [
  {
   "cell_type": "code",
   "execution_count": 21,
   "metadata": {},
   "outputs": [],
   "source": [
    "import torch\n",
    "temb_dim = 4\n",
    "# time_steps has to have dimension of (batch_size, )\n",
    "time_steps = torch.tensor([1, 2, 3, 4, 5], dtype = torch.float32)\n",
    "\n",
    "factor = 10000 ** ((torch.arange(\n",
    "        start = 0 , end = temb_dim // 2, dtype = torch.float32) / (temb_dim // 2) )\n",
    "        )\n",
    "\n",
    "t_emb = time_steps[:, None].repeat(1, temb_dim // 2) / factor\n",
    "t_emb = torch.cat([torch.sin(t_emb), torch.cos(t_emb)], dim=-1)"
   ]
  },
  {
   "cell_type": "code",
   "execution_count": 22,
   "metadata": {},
   "outputs": [
    {
     "data": {
      "text/plain": [
       "tensor([[ 0.8415,  0.0100,  0.5403,  0.9999],\n",
       "        [ 0.9093,  0.0200, -0.4161,  0.9998],\n",
       "        [ 0.1411,  0.0300, -0.9900,  0.9996],\n",
       "        [-0.7568,  0.0400, -0.6536,  0.9992],\n",
       "        [-0.9589,  0.0500,  0.2837,  0.9988]])"
      ]
     },
     "execution_count": 22,
     "metadata": {},
     "output_type": "execute_result"
    }
   ],
   "source": [
    "t_emb"
   ]
  },
  {
   "cell_type": "code",
   "execution_count": 19,
   "metadata": {},
   "outputs": [],
   "source": [
    "t_emb = time_steps[:, None].repeat(1, temb_dim // 2) / factor"
   ]
  },
  {
   "cell_type": "code",
   "execution_count": 20,
   "metadata": {},
   "outputs": [
    {
     "data": {
      "text/plain": [
       "tensor([[1.0000, 0.0100],\n",
       "        [2.0000, 0.0200],\n",
       "        [3.0000, 0.0300],\n",
       "        [4.0000, 0.0400],\n",
       "        [5.0000, 0.0500]])"
      ]
     },
     "execution_count": 20,
     "metadata": {},
     "output_type": "execute_result"
    }
   ],
   "source": [
    "t_emb"
   ]
  },
  {
   "cell_type": "code",
   "execution_count": 13,
   "metadata": {},
   "outputs": [
    {
     "data": {
      "text/plain": [
       "tensor([0.0000, 0.5000])"
      ]
     },
     "execution_count": 13,
     "metadata": {},
     "output_type": "execute_result"
    }
   ],
   "source": [
    "torch.arange(start = 0 , end = temb_dim // 2, dtype = torch.float32) / (temb_dim // 2) "
   ]
  },
  {
   "cell_type": "code",
   "execution_count": null,
   "metadata": {},
   "outputs": [],
   "source": []
  }
 ],
 "metadata": {
  "kernelspec": {
   "display_name": "CTIDiffusion",
   "language": "python",
   "name": "python3"
  },
  "language_info": {
   "codemirror_mode": {
    "name": "ipython",
    "version": 3
   },
   "file_extension": ".py",
   "mimetype": "text/x-python",
   "name": "python",
   "nbconvert_exporter": "python",
   "pygments_lexer": "ipython3",
   "version": "3.9.6"
  }
 },
 "nbformat": 4,
 "nbformat_minor": 2
}
