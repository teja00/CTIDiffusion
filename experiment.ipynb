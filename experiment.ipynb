{
 "cells": [
  {
   "cell_type": "code",
   "execution_count": 23,
   "metadata": {},
   "outputs": [],
   "source": [
    "import torch\n",
    "import torch.nn as nn\n",
    "temb_dim = 4\n",
    "# time_steps has to have dimension of (batch_size, )\n",
    "time_steps = torch.tensor([1, 2, 3, 4, 5], dtype = torch.float32)\n",
    "\n",
    "factor = 10000 ** ((torch.arange(\n",
    "        start = 0 , end = temb_dim // 2, dtype = torch.float32) / (temb_dim // 2) )\n",
    "        )\n",
    "\n",
    "t_emb = time_steps[:, None].repeat(1, temb_dim // 2) / factor\n",
    "t_emb = torch.cat([torch.sin(t_emb), torch.cos(t_emb)], dim=-1)"
   ]
  },
  {
   "cell_type": "code",
   "execution_count": 22,
   "metadata": {},
   "outputs": [
    {
     "data": {
      "text/plain": [
       "tensor([[ 0.8415,  0.0100,  0.5403,  0.9999],\n",
       "        [ 0.9093,  0.0200, -0.4161,  0.9998],\n",
       "        [ 0.1411,  0.0300, -0.9900,  0.9996],\n",
       "        [-0.7568,  0.0400, -0.6536,  0.9992],\n",
       "        [-0.9589,  0.0500,  0.2837,  0.9988]])"
      ]
     },
     "execution_count": 22,
     "metadata": {},
     "output_type": "execute_result"
    }
   ],
   "source": [
    "t_emb"
   ]
  },
  {
   "cell_type": "code",
   "execution_count": 19,
   "metadata": {},
   "outputs": [],
   "source": [
    "t_emb = time_steps[:, None].repeat(1, temb_dim // 2) / factor"
   ]
  },
  {
   "cell_type": "code",
   "execution_count": 20,
   "metadata": {},
   "outputs": [
    {
     "data": {
      "text/plain": [
       "tensor([[1.0000, 0.0100],\n",
       "        [2.0000, 0.0200],\n",
       "        [3.0000, 0.0300],\n",
       "        [4.0000, 0.0400],\n",
       "        [5.0000, 0.0500]])"
      ]
     },
     "execution_count": 20,
     "metadata": {},
     "output_type": "execute_result"
    }
   ],
   "source": [
    "t_emb"
   ]
  },
  {
   "cell_type": "code",
   "execution_count": 13,
   "metadata": {},
   "outputs": [
    {
     "data": {
      "text/plain": [
       "tensor([0.0000, 0.5000])"
      ]
     },
     "execution_count": 13,
     "metadata": {},
     "output_type": "execute_result"
    }
   ],
   "source": [
    "torch.arange(start = 0 , end = temb_dim // 2, dtype = torch.float32) / (temb_dim // 2) "
   ]
  },
  {
   "cell_type": "code",
   "execution_count": 24,
   "metadata": {},
   "outputs": [
    {
     "name": "stdout",
     "output_type": "stream",
     "text": [
      "torch.Size([1, 16, 32, 32])\n"
     ]
    }
   ],
   "source": [
    "conv_layer = nn.Conv2d(in_channels=3, out_channels=16, kernel_size=3, stride=1, padding=1)\n",
    "\n",
    "# Create a random input tensor with the shape [batch_size, in_channels, height, width]\n",
    "input_image = torch.randn(1, 3, 32, 32)\n",
    "\n",
    "# Apply the convolutional layer\n",
    "output = conv_layer(input_image)\n",
    "\n",
    "## the formulae for the output layer is given by \n",
    "\n",
    "# output_size = ((input_size - kernel_size + 2*padding) / stride) + 1\n",
    "\n",
    "# Print the shape of the output\n",
    "print(output.shape)  "
   ]
  },
  {
   "cell_type": "code",
   "execution_count": 2,
   "metadata": {},
   "outputs": [
    {
     "name": "stdout",
     "output_type": "stream",
     "text": [
      "torch.Size([8, 512])\n",
      "torch.Size([8, 512])\n",
      "torch.Size([8])\n"
     ]
    }
   ],
   "source": [
    "from turtle import pos\n",
    "import torch\n",
    "import torch.nn as nn\n",
    "import clip\n",
    "\n",
    "# Define the feature extractor (Fenc) using CLIP\n",
    "class FeatureExtractor(nn.Module):\n",
    "    def __init__(self, model_name=\"ViT-B/32\"):\n",
    "        super(FeatureExtractor, self).__init__()\n",
    "        self.model, _ = clip.load(model_name, device='cpu')  # Load the CLIP model\n",
    "        self.model = self.model.visual  # Use the visual part of the model\n",
    "\n",
    "    def forward(self, x):\n",
    "        return self.model(x)\n",
    "\n",
    "# Define the position embedding (Emb)\n",
    "class PositionEmbedding(nn.Module):\n",
    "    def __init__(self, embed_size):\n",
    "        super(PositionEmbedding, self).__init__()\n",
    "        self.embed_size = embed_size\n",
    "        self.embedding = nn.Parameter(torch.randn(1, embed_size))\n",
    "\n",
    "    def forward(self, x):\n",
    "        batch_size, _ = x.size()\n",
    "        embeddings = self.embedding.repeat(batch_size, 1)\n",
    "        return embeddings\n",
    "\n",
    "# Define the image input encoder\n",
    "class ImageInputEncoder(nn.Module):\n",
    "    def __init__(self, embed_size, model_name=\"ViT-B/32\"):\n",
    "        super(ImageInputEncoder, self).__init__()\n",
    "        self.feature_extractor = FeatureExtractor(model_name)\n",
    "        self.position_embedding = PositionEmbedding(embed_size)\n",
    "        self.embed_size = embed_size\n",
    "\n",
    "    def forward(self, x):\n",
    "        features = self.feature_extractor(x)  # Extract features\n",
    "        B, C = features.size()\n",
    "        \n",
    "        pos_embeddings = self.position_embedding(features)  # Get position embeddings\n",
    "        print(pos_embeddings.shape)\n",
    "        features += pos_embeddings\n",
    "        \n",
    "        print(features.shape)\n",
    "        # Aggregate to get the image-level representation\n",
    "        image_condition = features.mean(dim=1)\n",
    "        \n",
    "        return image_condition\n",
    "\n",
    "# Example usage:\n",
    "# Create a random image tensor with shape [batch_size, channels, height, width]\n",
    "input_image = torch.randn(8, 3, 224, 224)  # Example input\n",
    "\n",
    "# Define the model and forward pass\n",
    "embed_size = 512  # Example embedding size for CLIP ViT-B/32\n",
    "model = ImageInputEncoder(embed_size, model_name=\"ViT-B/32\")\n",
    "output = model(input_image)\n",
    "\n",
    "print(output.shape)  # Should print: torch.Size([8, 512])\n"
   ]
  },
  {
   "cell_type": "code",
   "execution_count": 4,
   "metadata": {},
   "outputs": [
    {
     "name": "stdout",
     "output_type": "stream",
     "text": [
      "torch.Size([8, 1, 512])\n",
      "torch.Size([8, 1, 512])\n",
      "torch.Size([8, 512])\n"
     ]
    }
   ],
   "source": [
    "import torch\n",
    "import torch.nn as nn\n",
    "import clip\n",
    "\n",
    "# Define the feature extractor (Fenc) using CLIP\n",
    "class FeatureExtractor(nn.Module):\n",
    "    def __init__(self, model_name=\"ViT-B/32\"):\n",
    "        super(FeatureExtractor, self).__init__()\n",
    "        self.model, _ = clip.load(model_name, device='cpu')  # Load the CLIP model\n",
    "        self.model = self.model.visual  # Use the visual part of the model\n",
    "\n",
    "    def forward(self, x):\n",
    "        return self.model(x)\n",
    "\n",
    "# Define the position embedding (Emb)\n",
    "class PositionEmbedding(nn.Module):\n",
    "    def __init__(self, embed_size):\n",
    "        super(PositionEmbedding, self).__init__()\n",
    "        self.embed_size = embed_size\n",
    "        self.embedding = nn.Parameter(torch.randn(1, 1, embed_size))\n",
    "\n",
    "    def forward(self, x):\n",
    "        batch_size, num_patches, _ = x.size()\n",
    "        embeddings = self.embedding.expand(batch_size, num_patches, -1)\n",
    "        return embeddings\n",
    "\n",
    "# Define the image input encoder\n",
    "class ImageInputEncoder(nn.Module):\n",
    "    def __init__(self, embed_size, model_name=\"ViT-B/32\"):\n",
    "        super(ImageInputEncoder, self).__init__()\n",
    "        self.feature_extractor = FeatureExtractor(model_name)\n",
    "        self.position_embedding = PositionEmbedding(embed_size)\n",
    "        self.embed_size = embed_size\n",
    "\n",
    "    def forward(self, x):\n",
    "        features = self.feature_extractor(x)  # Extract features\n",
    "        B, C = features.size()\n",
    "        \n",
    "        # Reshape features to match positional embeddings dimensions\n",
    "        features = features.view(B, 1, C)\n",
    "        print(features.shape)\n",
    "        \n",
    "        pos_embeddings = self.position_embedding(features)  # Get position embeddings\n",
    "        features += pos_embeddings\n",
    "        \n",
    "        print(pos_embeddings.shape)\n",
    "        # Aggregate to get the image-level representation\n",
    "        image_condition = features.mean(dim=1)\n",
    "        \n",
    "        return image_condition\n",
    "\n",
    "# Example usage:\n",
    "# Create a random image tensor with shape [batch_size, channels, height, width]\n",
    "input_image = torch.randn(8, 3, 224, 224)  # Example input\n",
    "\n",
    "# Define the model and forward pass\n",
    "embed_size = 512  # Example embedding size for CLIP ViT-B/32\n",
    "model = ImageInputEncoder(embed_size, model_name=\"ViT-B/32\")\n",
    "output = model(input_image)\n",
    "\n",
    "print(output.shape)  # Should print: torch.Size([8, 512])\n"
   ]
  },
  {
   "cell_type": "code",
   "execution_count": 6,
   "metadata": {},
   "outputs": [
    {
     "name": "stdout",
     "output_type": "stream",
     "text": [
      "torch.Size([1, 77, 512])\n"
     ]
    }
   ],
   "source": [
    "import torch\n",
    "from transformers import DistilBertModel, DistilBertTokenizer, CLIPTokenizer, CLIPTextModel\n",
    "\n",
    "# Define the function to get the tokenizer and model based on the model type\n",
    "def get_tokenizer_and_model(model_type, device, eval_mode=True):\n",
    "    if model_type == 'bert':\n",
    "        text_tokenizer = DistilBertTokenizer.from_pretrained('distilbert-base-uncased')\n",
    "        text_model = DistilBertModel.from_pretrained('distilbert-base-uncased').to(device)\n",
    "    elif model_type == 'clip':\n",
    "        text_tokenizer = CLIPTokenizer.from_pretrained('openai/clip-vit-base-patch16')\n",
    "        text_model = CLIPTextModel.from_pretrained('openai/clip-vit-base-patch16').to(device)\n",
    "    else:\n",
    "        raise ValueError(f\"Unsupported model_type: {model_type}\")\n",
    "    \n",
    "    if eval_mode:\n",
    "        text_model.eval()\n",
    "    \n",
    "    return text_tokenizer, text_model\n",
    "\n",
    "# Define the function to get text representation\n",
    "def get_text_representation(text, text_tokenizer, text_model, device,\n",
    "                            truncation=True,\n",
    "                            padding='max_length',\n",
    "                            max_length=77):\n",
    "    token_output = text_tokenizer(text,\n",
    "                                  truncation=truncation,\n",
    "                                  padding=padding,\n",
    "                                  return_attention_mask=True,\n",
    "                                  max_length=max_length,\n",
    "                                  return_tensors='pt')  # Return PyTorch tensors\n",
    "    tokens_tensor = token_output['input_ids'].to(device)\n",
    "    mask_tensor = token_output['attention_mask'].to(device)\n",
    "    \n",
    "    with torch.no_grad():  # Disable gradient calculation\n",
    "        text_embed = text_model(input_ids=tokens_tensor, attention_mask=mask_tensor).last_hidden_state\n",
    "    \n",
    "    return text_embed\n",
    "\n",
    "# Example usage\n",
    "device = torch.device('cuda' if torch.cuda.is_available() else 'cpu')\n",
    "text = \"A photo of a cat\"\n",
    "model_type = 'clip'\n",
    "text_tokenizer, text_model = get_tokenizer_and_model(model_type, device)\n",
    "text_embed = get_text_representation(text, text_tokenizer, text_model, device)\n",
    "print(text_embed.shape)  # Should print: torch.Size([1, 77, 512])\n"
   ]
  },
  {
   "cell_type": "code",
   "execution_count": null,
   "metadata": {},
   "outputs": [],
   "source": []
  }
 ],
 "metadata": {
  "kernelspec": {
   "display_name": "CTIDiffusion",
   "language": "python",
   "name": "python3"
  },
  "language_info": {
   "codemirror_mode": {
    "name": "ipython",
    "version": 3
   },
   "file_extension": ".py",
   "mimetype": "text/x-python",
   "name": "python",
   "nbconvert_exporter": "python",
   "pygments_lexer": "ipython3",
   "version": "3.9.6"
  }
 },
 "nbformat": 4,
 "nbformat_minor": 2
}
